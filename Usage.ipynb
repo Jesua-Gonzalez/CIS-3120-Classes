{
 "cells": [
  {
   "cell_type": "code",
   "execution_count": 1,
   "id": "6b88b4bc-a5c4-436d-9eed-8e95600f6d53",
   "metadata": {
    "editable": true,
    "slideshow": {
     "slide_type": ""
    },
    "tags": []
   },
   "outputs": [],
   "source": [
    "from Animal import Animal"
   ]
  },
  {
   "cell_type": "code",
   "execution_count": 2,
   "id": "738a52e3-faf1-4f92-8835-fed5b5e36dfe",
   "metadata": {
    "editable": true,
    "slideshow": {
     "slide_type": ""
    },
    "tags": []
   },
   "outputs": [
    {
     "name": "stdout",
     "output_type": "stream",
     "text": [
      "Hello, I am Tony Tiger\n",
      "I am a {'Tiger'} type of animal!\n",
      "Today i turn, 20 years old\n",
      "I can camoflauge in areas that are dark since my color is, Orange\n",
      "ROAR\n",
      "You have 99, hp left in the tank (-1 hp)\n",
      "ROAR\n",
      "You have 98, hp left in the tank (-1 hp)\n",
      "HUFF\n",
      "You have 98, hp left in the tank (+1 hp)\n"
     ]
    }
   ],
   "source": [
    "x = Animal('Tony Tiger', \"Tiger\", 20, \"Orange\")\n",
    "x.printname()\n",
    "x.species()\n",
    "x.age()\n",
    "x.color()\n",
    "x.battle()\n",
    "x.battle()\n",
    "x.rest()\n",
    "\n"
   ]
  },
  {
   "cell_type": "markdown",
   "id": "e1406504",
   "metadata": {},
   "source": []
  },
  {
   "cell_type": "markdown",
   "id": "3a20d9dc",
   "metadata": {},
   "source": []
  }
 ],
 "metadata": {
  "kernelspec": {
   "display_name": "Python 3",
   "language": "python",
   "name": "python3"
  },
  "language_info": {
   "codemirror_mode": {
    "name": "ipython",
    "version": 3
   },
   "file_extension": ".py",
   "mimetype": "text/x-python",
   "name": "python",
   "nbconvert_exporter": "python",
   "pygments_lexer": "ipython3",
   "version": "3.12.3"
  }
 },
 "nbformat": 4,
 "nbformat_minor": 5
}
